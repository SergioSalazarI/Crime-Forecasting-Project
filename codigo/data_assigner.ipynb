version https://git-lfs.github.com/spec/v1
oid sha256:8bdf8ab55ca895979d857f60aa7120ebeec1d08ca89f82b64c7c93bc270b3110
size 19428
