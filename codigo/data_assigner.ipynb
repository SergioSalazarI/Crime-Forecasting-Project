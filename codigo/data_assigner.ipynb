{
 "cells": [
  {
   "cell_type": "markdown",
   "metadata": {},
   "source": [
    "# Librerias"
   ]
  },
  {
   "cell_type": "code",
   "execution_count": 2,
   "metadata": {},
   "outputs": [],
   "source": [
    "import pandas as pd\n",
    "import numpy as np\n",
    "import os"
   ]
  },
  {
   "cell_type": "code",
   "execution_count": 3,
   "metadata": {},
   "outputs": [
    {
     "data": {
      "text/plain": [
       "'c:\\\\Users\\\\sdsal\\\\OneDrive - Universidad de los Andes\\\\2023-2\\\\Tesis\\\\codigo'"
      ]
     },
     "execution_count": 3,
     "metadata": {},
     "output_type": "execute_result"
    }
   ],
   "source": [
    "os.getcwd()"
   ]
  },
  {
   "cell_type": "code",
   "execution_count": 4,
   "metadata": {},
   "outputs": [],
   "source": [
    "os.chdir(path=\"../datos/unificado/\")"
   ]
  },
  {
   "cell_type": "markdown",
   "metadata": {},
   "source": [
    "# Funciones Auxiliares"
   ]
  },
  {
   "cell_type": "code",
   "execution_count": 5,
   "metadata": {},
   "outputs": [],
   "source": [
    "def obtain_unique_locations(list):\n",
    "    df = pd.DataFrame({'NOMBRE_BARRIO':[],'LOCALIDAD':[]})\n",
    "    \n",
    "    for i in list:\n",
    "        current_df = pd.read_csv(i)\n",
    "        temporal_df = pd.DataFrame()\n",
    "        \n",
    "        # Extraer la parte del barrio sin la \"E-XX\"\n",
    "        temporal_df['NOMBRE_BARRIO'] = current_df['BARRIO'].str.extract(r'(.*) E-\\d+')\n",
    "        # Extraer el número después de \"E-\"\n",
    "        temporal_df['LOCALIDAD'] = current_df['BARRIO'].str.extract(r'E-(\\d+)')\n",
    "        #temporal_df.head(1)\n",
    "        df = pd.concat([df,temporal_df],axis=0)\n",
    "    \n",
    "    df = df.drop_duplicates(subset=['NOMBRE_BARRIO','LOCALIDAD'])\n",
    "    return df"
   ]
  },
  {
   "cell_type": "code",
   "execution_count": 6,
   "metadata": {},
   "outputs": [],
   "source": [
    "def obtain_not_reported_neighbors(path,reports):\n",
    "    df_list = []\n",
    "    \n",
    "    for i in range(1,20):\n",
    "    \n",
    "        current_location = reports[reports['LOCALIDAD']==f'{i}']\n",
    "        reported_neighbors = current_location['NOMBRE_BARRIO']\n",
    "        \n",
    "        df_upzs_info = pd.read_excel(path,f'{i}')\n",
    "        known_neighbors = df_upzs_info['BARRIO'].tolist()\n",
    "        \n",
    "        list_neighbors = [j for j in reported_neighbors if j not in known_neighbors]\n",
    "        list_locations = [i] * len(list_neighbors)     \n",
    "                \n",
    "        temporal_df =pd.DataFrame({'NOMBRE_BARRIO':list_neighbors,'LOCALIDAD':list_locations})    \n",
    "        df_list.append(temporal_df)\n",
    "        \n",
    "    df = pd.concat(df_list, axis=0, ignore_index=True)\n",
    "    return df"
   ]
  },
  {
   "cell_type": "markdown",
   "metadata": {},
   "source": [
    "# Desarrollo"
   ]
  },
  {
   "cell_type": "markdown",
   "metadata": {},
   "source": [
    "Lista de delitos a analizar"
   ]
  },
  {
   "cell_type": "code",
   "execution_count": 7,
   "metadata": {},
   "outputs": [],
   "source": [
    "lista_delitos = ['homicidios.csv',\n",
    "                 'hurto_a_personas.csv',\n",
    "                 'hurto_de_automotores.csv',\n",
    "                 'hurto_de_celulares.csv',\n",
    "                 'hurto_de_motos.csv']"
   ]
  },
  {
   "cell_type": "markdown",
   "metadata": {},
   "source": [
    "El DataFrame resultante contiene todos los nombres de los barrios cuyos reportes existen."
   ]
  },
  {
   "cell_type": "code",
   "execution_count": 8,
   "metadata": {},
   "outputs": [
    {
     "name": "stderr",
     "output_type": "stream",
     "text": [
      "C:\\Users\\sdsal\\AppData\\Local\\Temp\\ipykernel_20156\\1820550837.py:5: DtypeWarning: Columns (9) have mixed types. Specify dtype option on import or set low_memory=False.\n",
      "  current_df = pd.read_csv(i)\n"
     ]
    }
   ],
   "source": [
    "unique_locations = obtain_unique_locations(lista_delitos)"
   ]
  },
  {
   "cell_type": "code",
   "execution_count": 9,
   "metadata": {},
   "outputs": [
    {
     "name": "stdout",
     "output_type": "stream",
     "text": [
      "<class 'pandas.core.frame.DataFrame'>\n",
      "Int64Index: 4326 entries, 0 to 40271\n",
      "Data columns (total 2 columns):\n",
      " #   Column         Non-Null Count  Dtype \n",
      "---  ------         --------------  ----- \n",
      " 0   NOMBRE_BARRIO  4325 non-null   object\n",
      " 1   LOCALIDAD      4325 non-null   object\n",
      "dtypes: object(2)\n",
      "memory usage: 101.4+ KB\n"
     ]
    }
   ],
   "source": [
    "unique_locations.info()"
   ]
  },
  {
   "cell_type": "markdown",
   "metadata": {},
   "source": [
    "Se definen los barrios que componen a cada UPZ."
   ]
  },
  {
   "cell_type": "code",
   "execution_count": 10,
   "metadata": {},
   "outputs": [
    {
     "name": "stdout",
     "output_type": "stream",
     "text": [
      "<class 'pandas.core.frame.DataFrame'>\n",
      "RangeIndex: 2997 entries, 0 to 2996\n",
      "Data columns (total 2 columns):\n",
      " #   Column         Non-Null Count  Dtype \n",
      "---  ------         --------------  ----- \n",
      " 0   NOMBRE_BARRIO  2997 non-null   object\n",
      " 1   LOCALIDAD      2997 non-null   int64 \n",
      "dtypes: int64(1), object(1)\n",
      "memory usage: 47.0+ KB\n"
     ]
    }
   ],
   "source": [
    "df_not_upz = obtain_not_reported_neighbors('listado_barrios_por_upz.xlsx',unique_locations)\n",
    "df_not_upz.info()"
   ]
  },
  {
   "cell_type": "code",
   "execution_count": 11,
   "metadata": {},
   "outputs": [],
   "source": [
    "nombre_archivo_excel = 'barrios_no_encontrados.xlsx'\n",
    "\n",
    "df_not_upz.to_excel(nombre_archivo_excel, index=False)"
   ]
  }
 ],
 "metadata": {
  "kernelspec": {
   "display_name": "Python 3",
   "language": "python",
   "name": "python3"
  },
  "language_info": {
   "codemirror_mode": {
    "name": "ipython",
    "version": 3
   },
   "file_extension": ".py",
   "mimetype": "text/x-python",
   "name": "python",
   "nbconvert_exporter": "python",
   "pygments_lexer": "ipython3",
   "version": "3.10.8"
  }
 },
 "nbformat": 4,
 "nbformat_minor": 2
}
