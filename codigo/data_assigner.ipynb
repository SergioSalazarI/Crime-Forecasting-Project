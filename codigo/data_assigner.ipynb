{
 "cells": [
  {
   "cell_type": "code",
   "execution_count": 2,
   "metadata": {},
   "outputs": [],
   "source": [
    "import pandas as pd\n",
    "import numpy as np\n",
    "import os"
   ]
  },
  {
   "cell_type": "code",
   "execution_count": 5,
   "metadata": {},
   "outputs": [
    {
     "data": {
      "text/plain": [
       "'c:\\\\Users\\\\sdsal\\\\OneDrive - Universidad de los Andes\\\\2023-2\\\\Tesis\\\\datos\\\\unificado'"
      ]
     },
     "execution_count": 5,
     "metadata": {},
     "output_type": "execute_result"
    }
   ],
   "source": [
    "os.getcwd()"
   ]
  },
  {
   "cell_type": "code",
   "execution_count": 4,
   "metadata": {},
   "outputs": [],
   "source": [
    "os.chdir(path=\"../datos/unificado/\")"
   ]
  },
  {
   "cell_type": "code",
   "execution_count": 9,
   "metadata": {},
   "outputs": [],
   "source": [
    "df = pd.read_csv(\"homicidios.csv\")\n",
    "\n",
    "# Extraer la parte del barrio sin la \"E-XX\"\n",
    "df['NOMBRE_BARRIO'] = df['BARRIO'].str.extract(r'(.*) E-\\d+')\n",
    "\n",
    "# Extraer el número después de \"E-\"\n",
    "df['LOCALIDAD'] = df['BARRIO'].str.extract(r'E-(\\d+)')"
   ]
  },
  {
   "cell_type": "code",
   "execution_count": 10,
   "metadata": {},
   "outputs": [
    {
     "data": {
      "text/html": [
       "<div>\n",
       "<style scoped>\n",
       "    .dataframe tbody tr th:only-of-type {\n",
       "        vertical-align: middle;\n",
       "    }\n",
       "\n",
       "    .dataframe tbody tr th {\n",
       "        vertical-align: top;\n",
       "    }\n",
       "\n",
       "    .dataframe thead th {\n",
       "        text-align: right;\n",
       "    }\n",
       "</style>\n",
       "<table border=\"1\" class=\"dataframe\">\n",
       "  <thead>\n",
       "    <tr style=\"text-align: right;\">\n",
       "      <th></th>\n",
       "      <th>FECHA</th>\n",
       "      <th>DIA</th>\n",
       "      <th>HORA</th>\n",
       "      <th>BARRIO</th>\n",
       "      <th>MES</th>\n",
       "      <th>ZONA</th>\n",
       "      <th>CLASE_DE_SITIO</th>\n",
       "      <th>ARMA_EMPLEADA</th>\n",
       "      <th>MOVIL_VICTIMA</th>\n",
       "      <th>MOVIL_AGRESOR</th>\n",
       "      <th>EDAD</th>\n",
       "      <th>ESTADO_CIVIL</th>\n",
       "      <th>PAIS_NACIMIENTO</th>\n",
       "      <th>CLASE_EMPLEADO</th>\n",
       "      <th>PROFESION</th>\n",
       "      <th>ESCOLARIDAD</th>\n",
       "      <th>GENERO</th>\n",
       "      <th>DESCRIPCION_CONDUCTA</th>\n",
       "      <th>NOMBRE_BARRIO</th>\n",
       "      <th>LOCALIDAD</th>\n",
       "    </tr>\n",
       "  </thead>\n",
       "  <tbody>\n",
       "    <tr>\n",
       "      <th>0</th>\n",
       "      <td>2010-01-01</td>\n",
       "      <td>Viernes</td>\n",
       "      <td>17:00:00</td>\n",
       "      <td>ANTONIA SANTOS E-7</td>\n",
       "      <td>ene.</td>\n",
       "      <td>URBANA</td>\n",
       "      <td>VIAS PUBLICAS</td>\n",
       "      <td>ARMA DE FUEGO</td>\n",
       "      <td>A PIE</td>\n",
       "      <td>A PIE</td>\n",
       "      <td>40.0</td>\n",
       "      <td>CASADO</td>\n",
       "      <td>COLOMBIA</td>\n",
       "      <td>EMPLEADO PARTICULAR</td>\n",
       "      <td>-</td>\n",
       "      <td>SECUNDARIA</td>\n",
       "      <td>MASCULINO</td>\n",
       "      <td>ARTÍCULO 103. HOMICIDIO</td>\n",
       "      <td>ANTONIA SANTOS</td>\n",
       "      <td>7</td>\n",
       "    </tr>\n",
       "    <tr>\n",
       "      <th>1</th>\n",
       "      <td>2010-01-01</td>\n",
       "      <td>Viernes</td>\n",
       "      <td>11:00:00</td>\n",
       "      <td>EL AMPARO E-8</td>\n",
       "      <td>ene.</td>\n",
       "      <td>URBANA</td>\n",
       "      <td>VIAS PUBLICAS</td>\n",
       "      <td>ARMA BLANCA / CORTOPUNZANTE</td>\n",
       "      <td>A PIE</td>\n",
       "      <td>A PIE</td>\n",
       "      <td>37.0</td>\n",
       "      <td>SOLTERO</td>\n",
       "      <td>COLOMBIA</td>\n",
       "      <td>COMERCIANTE</td>\n",
       "      <td>-</td>\n",
       "      <td>SECUNDARIA</td>\n",
       "      <td>MASCULINO</td>\n",
       "      <td>ARTÍCULO 103. HOMICIDIO</td>\n",
       "      <td>EL AMPARO</td>\n",
       "      <td>8</td>\n",
       "    </tr>\n",
       "    <tr>\n",
       "      <th>2</th>\n",
       "      <td>2010-01-01</td>\n",
       "      <td>Viernes</td>\n",
       "      <td>05:30:00</td>\n",
       "      <td>GUACAMAYAS I-II E-4</td>\n",
       "      <td>ene.</td>\n",
       "      <td>URBANA</td>\n",
       "      <td>VIAS PUBLICAS</td>\n",
       "      <td>ARMA DE FUEGO</td>\n",
       "      <td>A PIE</td>\n",
       "      <td>A PIE</td>\n",
       "      <td>18.0</td>\n",
       "      <td>SOLTERO</td>\n",
       "      <td>COLOMBIA</td>\n",
       "      <td>EMPLEADO PARTICULAR</td>\n",
       "      <td>-</td>\n",
       "      <td>SECUNDARIA</td>\n",
       "      <td>MASCULINO</td>\n",
       "      <td>ARTÍCULO 103. HOMICIDIO</td>\n",
       "      <td>GUACAMAYAS I-II</td>\n",
       "      <td>4</td>\n",
       "    </tr>\n",
       "    <tr>\n",
       "      <th>3</th>\n",
       "      <td>2010-01-01</td>\n",
       "      <td>Viernes</td>\n",
       "      <td>05:30:00</td>\n",
       "      <td>GUACAMAYAS I-II E-4</td>\n",
       "      <td>ene.</td>\n",
       "      <td>URBANA</td>\n",
       "      <td>VIAS PUBLICAS</td>\n",
       "      <td>ARMA DE FUEGO</td>\n",
       "      <td>A PIE</td>\n",
       "      <td>A PIE</td>\n",
       "      <td>25.0</td>\n",
       "      <td>NO REPORTA</td>\n",
       "      <td>COLOMBIA</td>\n",
       "      <td>INDEPENDIENTE</td>\n",
       "      <td>-</td>\n",
       "      <td>PRIMARIA</td>\n",
       "      <td>MASCULINO</td>\n",
       "      <td>ARTÍCULO 103. HOMICIDIO</td>\n",
       "      <td>GUACAMAYAS I-II</td>\n",
       "      <td>4</td>\n",
       "    </tr>\n",
       "    <tr>\n",
       "      <th>4</th>\n",
       "      <td>2010-01-01</td>\n",
       "      <td>Viernes</td>\n",
       "      <td>19:40:00</td>\n",
       "      <td>LA FLORIDA SUR E-19</td>\n",
       "      <td>ene.</td>\n",
       "      <td>URBANA</td>\n",
       "      <td>VIAS PUBLICAS</td>\n",
       "      <td>ARMA BLANCA / CORTOPUNZANTE</td>\n",
       "      <td>A PIE</td>\n",
       "      <td>A PIE</td>\n",
       "      <td>47.0</td>\n",
       "      <td>CASADO</td>\n",
       "      <td>COLOMBIA</td>\n",
       "      <td>EMPLEADO PARTICULAR</td>\n",
       "      <td>-</td>\n",
       "      <td>SECUNDARIA</td>\n",
       "      <td>MASCULINO</td>\n",
       "      <td>ARTÍCULO 103. HOMICIDIO</td>\n",
       "      <td>LA FLORIDA SUR</td>\n",
       "      <td>19</td>\n",
       "    </tr>\n",
       "  </tbody>\n",
       "</table>\n",
       "</div>"
      ],
      "text/plain": [
       "        FECHA      DIA      HORA               BARRIO   MES    ZONA  \\\n",
       "0  2010-01-01  Viernes  17:00:00   ANTONIA SANTOS E-7  ene.  URBANA   \n",
       "1  2010-01-01  Viernes  11:00:00        EL AMPARO E-8  ene.  URBANA   \n",
       "2  2010-01-01  Viernes  05:30:00  GUACAMAYAS I-II E-4  ene.  URBANA   \n",
       "3  2010-01-01  Viernes  05:30:00  GUACAMAYAS I-II E-4  ene.  URBANA   \n",
       "4  2010-01-01  Viernes  19:40:00  LA FLORIDA SUR E-19  ene.  URBANA   \n",
       "\n",
       "  CLASE_DE_SITIO                ARMA_EMPLEADA MOVIL_VICTIMA MOVIL_AGRESOR  \\\n",
       "0  VIAS PUBLICAS                ARMA DE FUEGO         A PIE         A PIE   \n",
       "1  VIAS PUBLICAS  ARMA BLANCA / CORTOPUNZANTE         A PIE         A PIE   \n",
       "2  VIAS PUBLICAS                ARMA DE FUEGO         A PIE         A PIE   \n",
       "3  VIAS PUBLICAS                ARMA DE FUEGO         A PIE         A PIE   \n",
       "4  VIAS PUBLICAS  ARMA BLANCA / CORTOPUNZANTE         A PIE         A PIE   \n",
       "\n",
       "   EDAD ESTADO_CIVIL PAIS_NACIMIENTO       CLASE_EMPLEADO PROFESION  \\\n",
       "0  40.0       CASADO        COLOMBIA  EMPLEADO PARTICULAR         -   \n",
       "1  37.0      SOLTERO        COLOMBIA          COMERCIANTE         -   \n",
       "2  18.0      SOLTERO        COLOMBIA  EMPLEADO PARTICULAR         -   \n",
       "3  25.0   NO REPORTA        COLOMBIA        INDEPENDIENTE         -   \n",
       "4  47.0       CASADO        COLOMBIA  EMPLEADO PARTICULAR         -   \n",
       "\n",
       "  ESCOLARIDAD     GENERO     DESCRIPCION_CONDUCTA    NOMBRE_BARRIO LOCALIDAD  \n",
       "0  SECUNDARIA  MASCULINO  ARTÍCULO 103. HOMICIDIO   ANTONIA SANTOS         7  \n",
       "1  SECUNDARIA  MASCULINO  ARTÍCULO 103. HOMICIDIO        EL AMPARO         8  \n",
       "2  SECUNDARIA  MASCULINO  ARTÍCULO 103. HOMICIDIO  GUACAMAYAS I-II         4  \n",
       "3    PRIMARIA  MASCULINO  ARTÍCULO 103. HOMICIDIO  GUACAMAYAS I-II         4  \n",
       "4  SECUNDARIA  MASCULINO  ARTÍCULO 103. HOMICIDIO   LA FLORIDA SUR        19  "
      ]
     },
     "execution_count": 10,
     "metadata": {},
     "output_type": "execute_result"
    }
   ],
   "source": [
    "df.head()"
   ]
  },
  {
   "cell_type": "code",
   "execution_count": 11,
   "metadata": {},
   "outputs": [],
   "source": [
    "lista_delitos = ['homicidios.csv',\n",
    "                 'hurto_a_personas.csv',\n",
    "                 'hurto_de_automotores.csv',\n",
    "                 'hurto_de_celulares.csv',\n",
    "                 'hurto_de_motos.csv']"
   ]
  },
  {
   "cell_type": "code",
   "execution_count": 19,
   "metadata": {},
   "outputs": [],
   "source": [
    "df = pd.DataFrame()"
   ]
  },
  {
   "cell_type": "code",
   "execution_count": 20,
   "metadata": {},
   "outputs": [
    {
     "name": "stdout",
     "output_type": "stream",
     "text": [
      "delitos_sexuales.csv\n"
     ]
    },
    {
     "name": "stderr",
     "output_type": "stream",
     "text": [
      "C:\\Users\\sdsal\\AppData\\Local\\Temp\\ipykernel_20124\\324242671.py:10: FutureWarning: The frame.append method is deprecated and will be removed from pandas in a future version. Use pandas.concat instead.\n",
      "  df.append(temporal_df,ignore_index=True)\n",
      "C:\\Users\\sdsal\\AppData\\Local\\Temp\\ipykernel_20124\\324242671.py:10: FutureWarning: The frame.append method is deprecated and will be removed from pandas in a future version. Use pandas.concat instead.\n",
      "  df.append(temporal_df,ignore_index=True)\n",
      "C:\\Users\\sdsal\\AppData\\Local\\Temp\\ipykernel_20124\\324242671.py:10: FutureWarning: The frame.append method is deprecated and will be removed from pandas in a future version. Use pandas.concat instead.\n",
      "  df.append(temporal_df,ignore_index=True)\n"
     ]
    },
    {
     "name": "stdout",
     "output_type": "stream",
     "text": [
      "extorsion.csv\n",
      "homicidios.csv\n",
      "hurto_a_comercio.csv\n"
     ]
    },
    {
     "name": "stderr",
     "output_type": "stream",
     "text": [
      "C:\\Users\\sdsal\\AppData\\Local\\Temp\\ipykernel_20124\\324242671.py:10: FutureWarning: The frame.append method is deprecated and will be removed from pandas in a future version. Use pandas.concat instead.\n",
      "  df.append(temporal_df,ignore_index=True)\n"
     ]
    },
    {
     "name": "stdout",
     "output_type": "stream",
     "text": [
      "hurto_a_personas.csv\n"
     ]
    },
    {
     "name": "stderr",
     "output_type": "stream",
     "text": [
      "C:\\Users\\sdsal\\AppData\\Local\\Temp\\ipykernel_20124\\324242671.py:3: DtypeWarning: Columns (9) have mixed types. Specify dtype option on import or set low_memory=False.\n",
      "  temporal_df = pd.read_csv(i)\n",
      "C:\\Users\\sdsal\\AppData\\Local\\Temp\\ipykernel_20124\\324242671.py:10: FutureWarning: The frame.append method is deprecated and will be removed from pandas in a future version. Use pandas.concat instead.\n",
      "  df.append(temporal_df,ignore_index=True)\n"
     ]
    },
    {
     "name": "stdout",
     "output_type": "stream",
     "text": [
      "hurto_a_residencias.csv\n"
     ]
    },
    {
     "name": "stderr",
     "output_type": "stream",
     "text": [
      "C:\\Users\\sdsal\\AppData\\Local\\Temp\\ipykernel_20124\\324242671.py:10: FutureWarning: The frame.append method is deprecated and will be removed from pandas in a future version. Use pandas.concat instead.\n",
      "  df.append(temporal_df,ignore_index=True)\n"
     ]
    },
    {
     "name": "stdout",
     "output_type": "stream",
     "text": [
      "hurto_de_automotores.csv\n"
     ]
    },
    {
     "name": "stderr",
     "output_type": "stream",
     "text": [
      "C:\\Users\\sdsal\\AppData\\Local\\Temp\\ipykernel_20124\\324242671.py:10: FutureWarning: The frame.append method is deprecated and will be removed from pandas in a future version. Use pandas.concat instead.\n",
      "  df.append(temporal_df,ignore_index=True)\n"
     ]
    },
    {
     "name": "stdout",
     "output_type": "stream",
     "text": [
      "hurto_de_bicicletas.csv\n"
     ]
    },
    {
     "name": "stderr",
     "output_type": "stream",
     "text": [
      "C:\\Users\\sdsal\\AppData\\Local\\Temp\\ipykernel_20124\\324242671.py:10: FutureWarning: The frame.append method is deprecated and will be removed from pandas in a future version. Use pandas.concat instead.\n",
      "  df.append(temporal_df,ignore_index=True)\n"
     ]
    },
    {
     "name": "stdout",
     "output_type": "stream",
     "text": [
      "hurto_de_celulares.csv\n"
     ]
    },
    {
     "name": "stderr",
     "output_type": "stream",
     "text": [
      "C:\\Users\\sdsal\\AppData\\Local\\Temp\\ipykernel_20124\\324242671.py:10: FutureWarning: The frame.append method is deprecated and will be removed from pandas in a future version. Use pandas.concat instead.\n",
      "  df.append(temporal_df,ignore_index=True)\n"
     ]
    },
    {
     "name": "stdout",
     "output_type": "stream",
     "text": [
      "hurto_de_motos.csv\n"
     ]
    },
    {
     "name": "stderr",
     "output_type": "stream",
     "text": [
      "C:\\Users\\sdsal\\AppData\\Local\\Temp\\ipykernel_20124\\324242671.py:10: FutureWarning: The frame.append method is deprecated and will be removed from pandas in a future version. Use pandas.concat instead.\n",
      "  df.append(temporal_df,ignore_index=True)\n"
     ]
    },
    {
     "name": "stdout",
     "output_type": "stream",
     "text": [
      "lesiones_personales.csv\n"
     ]
    },
    {
     "name": "stderr",
     "output_type": "stream",
     "text": [
      "C:\\Users\\sdsal\\AppData\\Local\\Temp\\ipykernel_20124\\324242671.py:3: DtypeWarning: Columns (10) have mixed types. Specify dtype option on import or set low_memory=False.\n",
      "  temporal_df = pd.read_csv(i)\n"
     ]
    },
    {
     "name": "stdout",
     "output_type": "stream",
     "text": [
      "secuestro.csv\n"
     ]
    },
    {
     "name": "stderr",
     "output_type": "stream",
     "text": [
      "C:\\Users\\sdsal\\AppData\\Local\\Temp\\ipykernel_20124\\324242671.py:10: FutureWarning: The frame.append method is deprecated and will be removed from pandas in a future version. Use pandas.concat instead.\n",
      "  df.append(temporal_df,ignore_index=True)\n",
      "C:\\Users\\sdsal\\AppData\\Local\\Temp\\ipykernel_20124\\324242671.py:10: FutureWarning: The frame.append method is deprecated and will be removed from pandas in a future version. Use pandas.concat instead.\n",
      "  df.append(temporal_df,ignore_index=True)\n"
     ]
    }
   ],
   "source": [
    "for i in lista_delitos:\n",
    "    print(i)\n",
    "    temporal_df = pd.read_csv(i)\n",
    "    \n",
    "    # Extraer la parte del barrio sin la \"E-XX\"\n",
    "    temporal_df['NOMBRE_BARRIO'] = temporal_df['BARRIO'].str.extract(r'(.*) E-\\d+')\n",
    "    # Extraer el número después de \"E-\"\n",
    "    temporal_df['LOCALIDAD'] = temporal_df['BARRIO'].str.extract(r'E-(\\d+)')\n",
    "    \n",
    "    df.append(temporal_df,ignore_index=True)"
   ]
  },
  {
   "cell_type": "code",
   "execution_count": 22,
   "metadata": {},
   "outputs": [
    {
     "data": {
      "text/html": [
       "<div>\n",
       "<style scoped>\n",
       "    .dataframe tbody tr th:only-of-type {\n",
       "        vertical-align: middle;\n",
       "    }\n",
       "\n",
       "    .dataframe tbody tr th {\n",
       "        vertical-align: top;\n",
       "    }\n",
       "\n",
       "    .dataframe thead th {\n",
       "        text-align: right;\n",
       "    }\n",
       "</style>\n",
       "<table border=\"1\" class=\"dataframe\">\n",
       "  <thead>\n",
       "    <tr style=\"text-align: right;\">\n",
       "      <th></th>\n",
       "    </tr>\n",
       "  </thead>\n",
       "  <tbody>\n",
       "  </tbody>\n",
       "</table>\n",
       "</div>"
      ],
      "text/plain": [
       "Empty DataFrame\n",
       "Columns: []\n",
       "Index: []"
      ]
     },
     "execution_count": 22,
     "metadata": {},
     "output_type": "execute_result"
    }
   ],
   "source": [
    "df.head()"
   ]
  },
  {
   "cell_type": "code",
   "execution_count": 21,
   "metadata": {},
   "outputs": [
    {
     "name": "stdout",
     "output_type": "stream",
     "text": [
      "<class 'pandas.core.frame.DataFrame'>\n",
      "Index: 0 entries\n",
      "Empty DataFrame\n"
     ]
    }
   ],
   "source": [
    "df.info()"
   ]
  }
 ],
 "metadata": {
  "kernelspec": {
   "display_name": "Python 3",
   "language": "python",
   "name": "python3"
  },
  "language_info": {
   "codemirror_mode": {
    "name": "ipython",
    "version": 3
   },
   "file_extension": ".py",
   "mimetype": "text/x-python",
   "name": "python",
   "nbconvert_exporter": "python",
   "pygments_lexer": "ipython3",
   "version": "3.10.8"
  }
 },
 "nbformat": 4,
 "nbformat_minor": 2
}
