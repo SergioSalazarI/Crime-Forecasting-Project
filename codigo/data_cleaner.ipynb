{
 "cells": [
  {
   "cell_type": "markdown",
   "metadata": {},
   "source": [
    "# Librerias"
   ]
  },
  {
   "cell_type": "code",
   "execution_count": 1,
   "metadata": {},
   "outputs": [],
   "source": [
    "import numpy as np\n",
    "import pandas as pd\n",
    "import matplotlib.pyplot as plt\n",
    "import seaborn as sns\n",
    "\n",
    "import os\n",
    "import openpyxl as xl"
   ]
  },
  {
   "cell_type": "markdown",
   "metadata": {},
   "source": [
    "# Funciones auxiliares"
   ]
  },
  {
   "cell_type": "code",
   "execution_count": 2,
   "metadata": {},
   "outputs": [],
   "source": [
    "def change_current_directory(path):\n",
    "    try:\n",
    "        os.chdir(path=path)\n",
    "        \n",
    "    except FileNotFoundError:\n",
    "        print(f\"El directorio '{path}' no existe o no se puede acceder.\")"
   ]
  },
  {
   "cell_type": "code",
   "execution_count": 3,
   "metadata": {},
   "outputs": [],
   "source": [
    "def change_between_crimes(new_path):\n",
    "    change_current_directory(\"..\")\n",
    "    change_current_directory(new_path)\n",
    "    \n",
    "    cwd = os.getcwd()\n",
    "    print(\"Current working directory: {0}\".format(cwd))"
   ]
  },
  {
   "cell_type": "code",
   "execution_count": 41,
   "metadata": {},
   "outputs": [],
   "source": [
    "def save_clean_dataframe(df,name):\n",
    "    change_between_crimes(\"unificado\")\n",
    "    df.to_csv(f'{name}.csv', encoding='utf-8', index=False)"
   ]
  },
  {
   "cell_type": "code",
   "execution_count": 63,
   "metadata": {},
   "outputs": [],
   "source": [
    "def obtaion_info(name,header=None):\n",
    "    df = pd.read_excel(name,'2010',header=header)\n",
    "    df=df[df['Municipio']=='BOGOTÁ D.C. (CT)']\n",
    "    df.drop(columns=[\"Departamento\",\"Municipio\",\"Código DANE\",\"Cantidad\"], inplace=True)\n",
    "    \n",
    "    for i in range(11,22+1):\n",
    "        temporal_df = pd.read_excel(name,'20%d'%i,header=header)\n",
    "        temporal_df=temporal_df[temporal_df['Municipio']=='BOGOTÁ D.C. (CT)']\n",
    "        temporal_df.drop(columns=[\"Departamento\",\"Municipio\",\"Código DANE\",\"Cantidad\"], inplace=True)#,\"DESCRIPCION_CONDUCTA\"\n",
    "        df = pd.concat([df,temporal_df],join=\"inner\")\n",
    "    \n",
    "    return df"
   ]
  },
  {
   "cell_type": "code",
   "execution_count": 20,
   "metadata": {},
   "outputs": [],
   "source": [
    "os.chdir(path=\"datos\")\n",
    "os.chdir(path=\"unificado\")"
   ]
  },
  {
   "cell_type": "code",
   "execution_count": 58,
   "metadata": {},
   "outputs": [],
   "source": [
    "delitos = ['delitos_sexuales',\n",
    "                    'extorsion',\n",
    "                    #'homicidios',\n",
    "                    'hurto_de_automotores',\n",
    "                    'hurto_de_motos',\n",
    "                    'hurto_de_bicicletas',\n",
    "                    'hurto_a_comercio',\n",
    "                    'hurto_a_residencias',\n",
    "                    'hurto_a_personas',\n",
    "                    'hurto_a_celulares',\n",
    "                    'lesiones_personales',\n",
    "                    'secuestro']"
   ]
  },
  {
   "cell_type": "code",
   "execution_count": 61,
   "metadata": {},
   "outputs": [],
   "source": [
    "historico_delitos = [f'{nombre.upper()}_1.xlsx' for nombre in delitos]"
   ]
  },
  {
   "cell_type": "code",
   "execution_count": 65,
   "metadata": {},
   "outputs": [
    {
     "name": "stdout",
     "output_type": "stream",
     "text": [
      "Current working directory: c:\\Users\\sdsal\\OneDrive - Universidad de los Andes\\2023-2\\Tesis\\datos\\delitos_sexuales\n",
      "Current working directory: c:\\Users\\sdsal\\OneDrive - Universidad de los Andes\\2023-2\\Tesis\\datos\\extorsion\n",
      "Current working directory: c:\\Users\\sdsal\\OneDrive - Universidad de los Andes\\2023-2\\Tesis\\datos\\hurto_de_automotores\n",
      "Current working directory: c:\\Users\\sdsal\\OneDrive - Universidad de los Andes\\2023-2\\Tesis\\datos\\hurto_de_motos\n",
      "Current working directory: c:\\Users\\sdsal\\OneDrive - Universidad de los Andes\\2023-2\\Tesis\\datos\\hurto_de_bicicletas\n"
     ]
    },
    {
     "ename": "KeyError",
     "evalue": "'Municipio'",
     "output_type": "error",
     "traceback": [
      "\u001b[1;31m---------------------------------------------------------------------------\u001b[0m",
      "\u001b[1;31mKeyError\u001b[0m                                  Traceback (most recent call last)",
      "File \u001b[1;32mc:\\Users\\sdsal\\AppData\\Local\\Programs\\Python\\Python310\\lib\\site-packages\\pandas\\core\\indexes\\base.py:3803\u001b[0m, in \u001b[0;36mIndex.get_loc\u001b[1;34m(self, key, method, tolerance)\u001b[0m\n\u001b[0;32m   3802\u001b[0m \u001b[39mtry\u001b[39;00m:\n\u001b[1;32m-> 3803\u001b[0m     \u001b[39mreturn\u001b[39;00m \u001b[39mself\u001b[39;49m\u001b[39m.\u001b[39;49m_engine\u001b[39m.\u001b[39;49mget_loc(casted_key)\n\u001b[0;32m   3804\u001b[0m \u001b[39mexcept\u001b[39;00m \u001b[39mKeyError\u001b[39;00m \u001b[39mas\u001b[39;00m err:\n",
      "File \u001b[1;32mc:\\Users\\sdsal\\AppData\\Local\\Programs\\Python\\Python310\\lib\\site-packages\\pandas\\_libs\\index.pyx:138\u001b[0m, in \u001b[0;36mpandas._libs.index.IndexEngine.get_loc\u001b[1;34m()\u001b[0m\n",
      "File \u001b[1;32mc:\\Users\\sdsal\\AppData\\Local\\Programs\\Python\\Python310\\lib\\site-packages\\pandas\\_libs\\index.pyx:165\u001b[0m, in \u001b[0;36mpandas._libs.index.IndexEngine.get_loc\u001b[1;34m()\u001b[0m\n",
      "File \u001b[1;32mpandas\\_libs\\hashtable_class_helper.pxi:5745\u001b[0m, in \u001b[0;36mpandas._libs.hashtable.PyObjectHashTable.get_item\u001b[1;34m()\u001b[0m\n",
      "File \u001b[1;32mpandas\\_libs\\hashtable_class_helper.pxi:5753\u001b[0m, in \u001b[0;36mpandas._libs.hashtable.PyObjectHashTable.get_item\u001b[1;34m()\u001b[0m\n",
      "\u001b[1;31mKeyError\u001b[0m: 'Municipio'",
      "\nThe above exception was the direct cause of the following exception:\n",
      "\u001b[1;31mKeyError\u001b[0m                                  Traceback (most recent call last)",
      "\u001b[1;32mc:\\Users\\sdsal\\OneDrive - Universidad de los Andes\\2023-2\\Tesis\\data_cleaner.ipynb Celda 11\u001b[0m line \u001b[0;36m5\n\u001b[0;32m      <a href='vscode-notebook-cell:/c%3A/Users/sdsal/OneDrive%20-%20Universidad%20de%20los%20Andes/2023-2/Tesis/data_cleaner.ipynb#X51sZmlsZQ%3D%3D?line=1'>2</a>\u001b[0m path\u001b[39m=\u001b[39mi\n\u001b[0;32m      <a href='vscode-notebook-cell:/c%3A/Users/sdsal/OneDrive%20-%20Universidad%20de%20los%20Andes/2023-2/Tesis/data_cleaner.ipynb#X51sZmlsZQ%3D%3D?line=2'>3</a>\u001b[0m change_between_crimes(path)\n\u001b[1;32m----> <a href='vscode-notebook-cell:/c%3A/Users/sdsal/OneDrive%20-%20Universidad%20de%20los%20Andes/2023-2/Tesis/data_cleaner.ipynb#X51sZmlsZQ%3D%3D?line=4'>5</a>\u001b[0m df \u001b[39m=\u001b[39m obtaion_info(j,header\u001b[39m=\u001b[39;49m\u001b[39m9\u001b[39;49m)\n",
      "\u001b[1;32mc:\\Users\\sdsal\\OneDrive - Universidad de los Andes\\2023-2\\Tesis\\data_cleaner.ipynb Celda 11\u001b[0m line \u001b[0;36m3\n\u001b[0;32m      <a href='vscode-notebook-cell:/c%3A/Users/sdsal/OneDrive%20-%20Universidad%20de%20los%20Andes/2023-2/Tesis/data_cleaner.ipynb#X51sZmlsZQ%3D%3D?line=0'>1</a>\u001b[0m \u001b[39mdef\u001b[39;00m \u001b[39mobtaion_info\u001b[39m(name,header\u001b[39m=\u001b[39m\u001b[39mNone\u001b[39;00m):\n\u001b[0;32m      <a href='vscode-notebook-cell:/c%3A/Users/sdsal/OneDrive%20-%20Universidad%20de%20los%20Andes/2023-2/Tesis/data_cleaner.ipynb#X51sZmlsZQ%3D%3D?line=1'>2</a>\u001b[0m     df \u001b[39m=\u001b[39m pd\u001b[39m.\u001b[39mread_excel(name,\u001b[39m'\u001b[39m\u001b[39m2010\u001b[39m\u001b[39m'\u001b[39m,header\u001b[39m=\u001b[39mheader)\n\u001b[1;32m----> <a href='vscode-notebook-cell:/c%3A/Users/sdsal/OneDrive%20-%20Universidad%20de%20los%20Andes/2023-2/Tesis/data_cleaner.ipynb#X51sZmlsZQ%3D%3D?line=2'>3</a>\u001b[0m     df\u001b[39m=\u001b[39mdf[df[\u001b[39m'\u001b[39;49m\u001b[39mMunicipio\u001b[39;49m\u001b[39m'\u001b[39;49m]\u001b[39m==\u001b[39m\u001b[39m'\u001b[39m\u001b[39mBOGOTÁ D.C. (CT)\u001b[39m\u001b[39m'\u001b[39m]\n\u001b[0;32m      <a href='vscode-notebook-cell:/c%3A/Users/sdsal/OneDrive%20-%20Universidad%20de%20los%20Andes/2023-2/Tesis/data_cleaner.ipynb#X51sZmlsZQ%3D%3D?line=3'>4</a>\u001b[0m     df\u001b[39m.\u001b[39mdrop(columns\u001b[39m=\u001b[39m[\u001b[39m\"\u001b[39m\u001b[39mDepartamento\u001b[39m\u001b[39m\"\u001b[39m,\u001b[39m\"\u001b[39m\u001b[39mMunicipio\u001b[39m\u001b[39m\"\u001b[39m,\u001b[39m\"\u001b[39m\u001b[39mCódigo DANE\u001b[39m\u001b[39m\"\u001b[39m,\u001b[39m\"\u001b[39m\u001b[39mCantidad\u001b[39m\u001b[39m\"\u001b[39m], inplace\u001b[39m=\u001b[39m\u001b[39mTrue\u001b[39;00m)\n\u001b[0;32m      <a href='vscode-notebook-cell:/c%3A/Users/sdsal/OneDrive%20-%20Universidad%20de%20los%20Andes/2023-2/Tesis/data_cleaner.ipynb#X51sZmlsZQ%3D%3D?line=5'>6</a>\u001b[0m     \u001b[39mfor\u001b[39;00m i \u001b[39min\u001b[39;00m \u001b[39mrange\u001b[39m(\u001b[39m11\u001b[39m,\u001b[39m22\u001b[39m\u001b[39m+\u001b[39m\u001b[39m1\u001b[39m):\n",
      "File \u001b[1;32mc:\\Users\\sdsal\\AppData\\Local\\Programs\\Python\\Python310\\lib\\site-packages\\pandas\\core\\frame.py:3805\u001b[0m, in \u001b[0;36mDataFrame.__getitem__\u001b[1;34m(self, key)\u001b[0m\n\u001b[0;32m   3803\u001b[0m \u001b[39mif\u001b[39;00m \u001b[39mself\u001b[39m\u001b[39m.\u001b[39mcolumns\u001b[39m.\u001b[39mnlevels \u001b[39m>\u001b[39m \u001b[39m1\u001b[39m:\n\u001b[0;32m   3804\u001b[0m     \u001b[39mreturn\u001b[39;00m \u001b[39mself\u001b[39m\u001b[39m.\u001b[39m_getitem_multilevel(key)\n\u001b[1;32m-> 3805\u001b[0m indexer \u001b[39m=\u001b[39m \u001b[39mself\u001b[39;49m\u001b[39m.\u001b[39;49mcolumns\u001b[39m.\u001b[39;49mget_loc(key)\n\u001b[0;32m   3806\u001b[0m \u001b[39mif\u001b[39;00m is_integer(indexer):\n\u001b[0;32m   3807\u001b[0m     indexer \u001b[39m=\u001b[39m [indexer]\n",
      "File \u001b[1;32mc:\\Users\\sdsal\\AppData\\Local\\Programs\\Python\\Python310\\lib\\site-packages\\pandas\\core\\indexes\\base.py:3805\u001b[0m, in \u001b[0;36mIndex.get_loc\u001b[1;34m(self, key, method, tolerance)\u001b[0m\n\u001b[0;32m   3803\u001b[0m     \u001b[39mreturn\u001b[39;00m \u001b[39mself\u001b[39m\u001b[39m.\u001b[39m_engine\u001b[39m.\u001b[39mget_loc(casted_key)\n\u001b[0;32m   3804\u001b[0m \u001b[39mexcept\u001b[39;00m \u001b[39mKeyError\u001b[39;00m \u001b[39mas\u001b[39;00m err:\n\u001b[1;32m-> 3805\u001b[0m     \u001b[39mraise\u001b[39;00m \u001b[39mKeyError\u001b[39;00m(key) \u001b[39mfrom\u001b[39;00m \u001b[39merr\u001b[39;00m\n\u001b[0;32m   3806\u001b[0m \u001b[39mexcept\u001b[39;00m \u001b[39mTypeError\u001b[39;00m:\n\u001b[0;32m   3807\u001b[0m     \u001b[39m# If we have a listlike key, _check_indexing_error will raise\u001b[39;00m\n\u001b[0;32m   3808\u001b[0m     \u001b[39m#  InvalidIndexError. Otherwise we fall through and re-raise\u001b[39;00m\n\u001b[0;32m   3809\u001b[0m     \u001b[39m#  the TypeError.\u001b[39;00m\n\u001b[0;32m   3810\u001b[0m     \u001b[39mself\u001b[39m\u001b[39m.\u001b[39m_check_indexing_error(key)\n",
      "\u001b[1;31mKeyError\u001b[0m: 'Municipio'"
     ]
    }
   ],
   "source": [
    "for i,j in zip(delitos,historico_delitos):\n",
    "    path=i\n",
    "    change_between_crimes(path)\n",
    "    \n",
    "    df = obtaion_info(j,header=9)"
   ]
  },
  {
   "cell_type": "markdown",
   "metadata": {},
   "source": [
    "# Delitos Sexuales"
   ]
  },
  {
   "cell_type": "code",
   "execution_count": 22,
   "metadata": {},
   "outputs": [
    {
     "name": "stdout",
     "output_type": "stream",
     "text": [
      "Current working directory: c:\\Users\\sdsal\\OneDrive - Universidad de los Andes\\2023-2\\Tesis\\datos\\delitos_sexuales\n"
     ]
    }
   ],
   "source": [
    "path=\"delitos_sexuales\"\n",
    "change_between_crimes(path)"
   ]
  },
  {
   "cell_type": "code",
   "execution_count": 34,
   "metadata": {},
   "outputs": [],
   "source": [
    "df = obtaion_info(\"DELITOS_SEXUALES_1.xlsx\",header=9)"
   ]
  },
  {
   "cell_type": "code",
   "execution_count": 36,
   "metadata": {},
   "outputs": [],
   "source": [
    "column_name_mapping = {\n",
    "    'Fecha': 'FECHA',\n",
    "    'Día': 'DIA',\n",
    "    'Hora': 'HORA',\n",
    "    'Barrio': 'BARRIO',\n",
    "    'MES': 'MES',\n",
    "    'Zona': 'ZONA',\n",
    "    'Clase de sitio': 'CLASE_DE_SITIO',\n",
    "    'Arma empleada': 'ARMA_EMPLEADA',\n",
    "    'Móvil Victima': 'MOVIL_VICTIMA',\n",
    "    'MOVIL_AGRESOR': 'MOVIL_AGRESOR',\n",
    "    'Edad': 'EDAD',\n",
    "    'Estado civil': 'ESTADO_CIVIL',\n",
    "    'País de nacimiento': 'PAIS_NACIMIENTO',\n",
    "    'Clase de empleado': 'CLASE_EMPLEADO',\n",
    "    'Profesión': 'PROFESION',\n",
    "    'Escolaridad': 'ESCOLARIDAD',\n",
    "    'GENERO': 'GENERO'\n",
    "}"
   ]
  },
  {
   "cell_type": "code",
   "execution_count": 37,
   "metadata": {},
   "outputs": [],
   "source": [
    "df.rename(columns=column_name_mapping, inplace=True)"
   ]
  },
  {
   "cell_type": "code",
   "execution_count": 38,
   "metadata": {},
   "outputs": [
    {
     "data": {
      "text/html": [
       "<div>\n",
       "<style scoped>\n",
       "    .dataframe tbody tr th:only-of-type {\n",
       "        vertical-align: middle;\n",
       "    }\n",
       "\n",
       "    .dataframe tbody tr th {\n",
       "        vertical-align: top;\n",
       "    }\n",
       "\n",
       "    .dataframe thead th {\n",
       "        text-align: right;\n",
       "    }\n",
       "</style>\n",
       "<table border=\"1\" class=\"dataframe\">\n",
       "  <thead>\n",
       "    <tr style=\"text-align: right;\">\n",
       "      <th></th>\n",
       "      <th>FECHA</th>\n",
       "      <th>DIA</th>\n",
       "      <th>HORA</th>\n",
       "      <th>BARRIO</th>\n",
       "      <th>MES</th>\n",
       "      <th>ZONA</th>\n",
       "      <th>CLASE_DE_SITIO</th>\n",
       "      <th>ARMA_EMPLEADA</th>\n",
       "      <th>MOVIL_VICTIMA</th>\n",
       "      <th>MOVIL_AGRESOR</th>\n",
       "      <th>EDAD</th>\n",
       "      <th>ESTADO_CIVIL</th>\n",
       "      <th>PAIS_NACIMIENTO</th>\n",
       "      <th>CLASE_EMPLEADO</th>\n",
       "      <th>PROFESION</th>\n",
       "      <th>ESCOLARIDAD</th>\n",
       "      <th>GENERO</th>\n",
       "    </tr>\n",
       "  </thead>\n",
       "  <tbody>\n",
       "    <tr>\n",
       "      <th>33</th>\n",
       "      <td>2010-01-01</td>\n",
       "      <td>Viernes</td>\n",
       "      <td>00:00:00</td>\n",
       "      <td>BELLA SUIZA E-1</td>\n",
       "      <td>ene.</td>\n",
       "      <td>URBANA</td>\n",
       "      <td>VIAS PUBLICAS</td>\n",
       "      <td>SIN EMPLEO DE ARMAS</td>\n",
       "      <td>A PIE</td>\n",
       "      <td>A PIE</td>\n",
       "      <td>13</td>\n",
       "      <td>SOLTERO</td>\n",
       "      <td>-</td>\n",
       "      <td>EMPLEADO PARTICULAR</td>\n",
       "      <td>-</td>\n",
       "      <td>PRIMARIA</td>\n",
       "      <td>FEMENINO</td>\n",
       "    </tr>\n",
       "    <tr>\n",
       "      <th>34</th>\n",
       "      <td>2010-01-01</td>\n",
       "      <td>Viernes</td>\n",
       "      <td>11:00:00</td>\n",
       "      <td>FRANCISCO JOSE DE CALDAS E-8</td>\n",
       "      <td>ene.</td>\n",
       "      <td>URBANA</td>\n",
       "      <td>VIAS PUBLICAS</td>\n",
       "      <td>NO REPORTADO</td>\n",
       "      <td>A PIE</td>\n",
       "      <td>A PIE</td>\n",
       "      <td>9</td>\n",
       "      <td>SOLTERO</td>\n",
       "      <td>COLOMBIA</td>\n",
       "      <td>ESTUDIANTE</td>\n",
       "      <td>-</td>\n",
       "      <td>NO REPORTADO</td>\n",
       "      <td>MASCULINO</td>\n",
       "    </tr>\n",
       "    <tr>\n",
       "      <th>35</th>\n",
       "      <td>2010-01-01</td>\n",
       "      <td>Viernes</td>\n",
       "      <td>11:00:00</td>\n",
       "      <td>FRANCISCO JOSE DE CALDAS E-8</td>\n",
       "      <td>ene.</td>\n",
       "      <td>URBANA</td>\n",
       "      <td>VIAS PUBLICAS</td>\n",
       "      <td>NO REPORTADO</td>\n",
       "      <td>A PIE</td>\n",
       "      <td>A PIE</td>\n",
       "      <td>42</td>\n",
       "      <td>NO REPORTA</td>\n",
       "      <td>COLOMBIA</td>\n",
       "      <td>EMPLEADO PARTICULAR</td>\n",
       "      <td>-</td>\n",
       "      <td>NO REPORTADO</td>\n",
       "      <td>FEMENINO</td>\n",
       "    </tr>\n",
       "    <tr>\n",
       "      <th>36</th>\n",
       "      <td>2010-01-01</td>\n",
       "      <td>Viernes</td>\n",
       "      <td>23:00:00</td>\n",
       "      <td>LA AURORA I SECTOR E-5</td>\n",
       "      <td>ene.</td>\n",
       "      <td>URBANA</td>\n",
       "      <td>CASAS DE HABITACION</td>\n",
       "      <td>NO REPORTADO</td>\n",
       "      <td>A PIE</td>\n",
       "      <td>A PIE</td>\n",
       "      <td>10</td>\n",
       "      <td>SOLTERO</td>\n",
       "      <td>COLOMBIA</td>\n",
       "      <td>ESTUDIANTE</td>\n",
       "      <td>NO REPORTADA</td>\n",
       "      <td>PRIMARIA</td>\n",
       "      <td>FEMENINO</td>\n",
       "    </tr>\n",
       "    <tr>\n",
       "      <th>37</th>\n",
       "      <td>2010-01-01</td>\n",
       "      <td>Viernes</td>\n",
       "      <td>09:30:00</td>\n",
       "      <td>MARCO FIDEL SUAREZ E-18</td>\n",
       "      <td>ene.</td>\n",
       "      <td>URBANA</td>\n",
       "      <td>CASAS DE HABITACION</td>\n",
       "      <td>CONTUNDENTES</td>\n",
       "      <td>A PIE</td>\n",
       "      <td>A PIE</td>\n",
       "      <td>20</td>\n",
       "      <td>SOLTERO</td>\n",
       "      <td>COLOMBIA</td>\n",
       "      <td>DESEMPLEADO</td>\n",
       "      <td>-</td>\n",
       "      <td>SECUNDARIA</td>\n",
       "      <td>FEMENINO</td>\n",
       "    </tr>\n",
       "  </tbody>\n",
       "</table>\n",
       "</div>"
      ],
      "text/plain": [
       "        FECHA      DIA      HORA                        BARRIO   MES    ZONA  \\\n",
       "33 2010-01-01  Viernes  00:00:00               BELLA SUIZA E-1  ene.  URBANA   \n",
       "34 2010-01-01  Viernes  11:00:00  FRANCISCO JOSE DE CALDAS E-8  ene.  URBANA   \n",
       "35 2010-01-01  Viernes  11:00:00  FRANCISCO JOSE DE CALDAS E-8  ene.  URBANA   \n",
       "36 2010-01-01  Viernes  23:00:00        LA AURORA I SECTOR E-5  ene.  URBANA   \n",
       "37 2010-01-01  Viernes  09:30:00       MARCO FIDEL SUAREZ E-18  ene.  URBANA   \n",
       "\n",
       "         CLASE_DE_SITIO        ARMA_EMPLEADA MOVIL_VICTIMA MOVIL_AGRESOR EDAD  \\\n",
       "33        VIAS PUBLICAS  SIN EMPLEO DE ARMAS         A PIE         A PIE   13   \n",
       "34        VIAS PUBLICAS         NO REPORTADO         A PIE         A PIE    9   \n",
       "35        VIAS PUBLICAS         NO REPORTADO         A PIE         A PIE   42   \n",
       "36  CASAS DE HABITACION         NO REPORTADO         A PIE         A PIE   10   \n",
       "37  CASAS DE HABITACION         CONTUNDENTES         A PIE         A PIE   20   \n",
       "\n",
       "   ESTADO_CIVIL PAIS_NACIMIENTO       CLASE_EMPLEADO     PROFESION  \\\n",
       "33      SOLTERO               -  EMPLEADO PARTICULAR             -   \n",
       "34      SOLTERO        COLOMBIA           ESTUDIANTE             -   \n",
       "35   NO REPORTA        COLOMBIA  EMPLEADO PARTICULAR             -   \n",
       "36      SOLTERO        COLOMBIA           ESTUDIANTE  NO REPORTADA   \n",
       "37      SOLTERO        COLOMBIA          DESEMPLEADO             -   \n",
       "\n",
       "     ESCOLARIDAD     GENERO  \n",
       "33      PRIMARIA   FEMENINO  \n",
       "34  NO REPORTADO  MASCULINO  \n",
       "35  NO REPORTADO   FEMENINO  \n",
       "36      PRIMARIA   FEMENINO  \n",
       "37    SECUNDARIA   FEMENINO  "
      ]
     },
     "execution_count": 38,
     "metadata": {},
     "output_type": "execute_result"
    }
   ],
   "source": [
    "df.head()"
   ]
  },
  {
   "cell_type": "code",
   "execution_count": 42,
   "metadata": {},
   "outputs": [
    {
     "name": "stdout",
     "output_type": "stream",
     "text": [
      "Current working directory: c:\\Users\\sdsal\\OneDrive - Universidad de los Andes\\2023-2\\Tesis\\datos\\unificado\n"
     ]
    }
   ],
   "source": [
    "save_clean_dataframe(df,'delitos_sexuales')"
   ]
  },
  {
   "cell_type": "markdown",
   "metadata": {},
   "source": [
    "# Homicidios"
   ]
  },
  {
   "cell_type": "code",
   "execution_count": null,
   "metadata": {},
   "outputs": [],
   "source": [
    "path=\"homicidios\"\n",
    "change_current_directory(path)"
   ]
  },
  {
   "cell_type": "code",
   "execution_count": null,
   "metadata": {},
   "outputs": [],
   "source": [
    "df = obtaion_info(\"HOMICIDIOS_1.xlsx\")"
   ]
  },
  {
   "cell_type": "code",
   "execution_count": null,
   "metadata": {},
   "outputs": [],
   "source": [
    "column_name_mapping = {\n",
    "    'Fecha': 'FECHA',\n",
    "    'Día': 'DIA',\n",
    "    'Hora': 'HORA',\n",
    "    'Barrio': 'BARRIO',\n",
    "    'MES': 'MES',\n",
    "    'Zona': 'ZONA',\n",
    "    'Clase de sitio': 'CLASE_DE_SITIO',\n",
    "    'Arma empleada': 'ARMA_EMPLEADA',\n",
    "    'Móvil Victima': 'MOVIL_VICTIMA',\n",
    "    'MOVIL_AGRESOR': 'MOVIL_AGRESOR',\n",
    "    'Edad': 'EDAD',\n",
    "    'Estado civil': 'ESTADO_CIVIL',\n",
    "    'País de nacimiento': 'PAIS_NACIMIENTO',\n",
    "    'Clase de empleado': 'CLASE_EMPLEADO',\n",
    "    'Profesión': 'PROFESION',\n",
    "    'Escolaridad': 'ESCOLARIDAD',\n",
    "    'GENERO': 'GENERO'\n",
    "}"
   ]
  },
  {
   "cell_type": "code",
   "execution_count": null,
   "metadata": {},
   "outputs": [],
   "source": [
    "df.rename(columns=column_name_mapping, inplace=True)"
   ]
  },
  {
   "cell_type": "code",
   "execution_count": null,
   "metadata": {},
   "outputs": [],
   "source": [
    "df.head()"
   ]
  },
  {
   "cell_type": "code",
   "execution_count": null,
   "metadata": {},
   "outputs": [],
   "source": [
    "save_clean_dataframe(df,'homicidios_unificado')"
   ]
  },
  {
   "cell_type": "code",
   "execution_count": null,
   "metadata": {},
   "outputs": [],
   "source": [
    "df.to_csv('homicidios_unificado.csv', encoding='utf-8', index=False)"
   ]
  },
  {
   "cell_type": "code",
   "execution_count": null,
   "metadata": {},
   "outputs": [],
   "source": [
    "\n",
    "#sns.displot(df[:100], x=\"Fecha\")"
   ]
  }
 ],
 "metadata": {
  "kernelspec": {
   "display_name": "Python 3",
   "language": "python",
   "name": "python3"
  },
  "language_info": {
   "codemirror_mode": {
    "name": "ipython",
    "version": 3
   },
   "file_extension": ".py",
   "mimetype": "text/x-python",
   "name": "python",
   "nbconvert_exporter": "python",
   "pygments_lexer": "ipython3",
   "version": "3.10.8"
  },
  "orig_nbformat": 4
 },
 "nbformat": 4,
 "nbformat_minor": 2
}
