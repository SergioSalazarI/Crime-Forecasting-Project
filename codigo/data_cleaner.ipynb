{
 "cells": [
  {
   "cell_type": "markdown",
   "metadata": {},
   "source": [
    "# Librerias"
   ]
  },
  {
   "cell_type": "code",
   "execution_count": 1,
   "metadata": {},
   "outputs": [],
   "source": [
    "import numpy as np\n",
    "import pandas as pd\n",
    "import matplotlib.pyplot as plt\n",
    "import seaborn as sns\n",
    "\n",
    "import os\n",
    "import openpyxl as xl"
   ]
  },
  {
   "cell_type": "markdown",
   "metadata": {},
   "source": [
    "# Funciones auxiliares"
   ]
  },
  {
   "cell_type": "code",
   "execution_count": 2,
   "metadata": {},
   "outputs": [],
   "source": [
    "def save_clean_dataframe(df,name):\n",
    "    os.chdir('../../unificado')\n",
    "    df.to_csv(f'{name}.csv', encoding='utf-8', index=False)"
   ]
  },
  {
   "cell_type": "code",
   "execution_count": 3,
   "metadata": {},
   "outputs": [],
   "source": [
    "def obtain_info(name,column_name_mapping,header=0,drop_columns=[\"Departamento\",\"Municipio\",\"Código DANE\",\"Cantidad\"],):\n",
    "    \n",
    "    df = pd.read_excel(name,'2010',header=header)\n",
    "\n",
    "    df=df[df[drop_columns[1]]=='BOGOTÁ D.C. (CT)']\n",
    "    df.drop(columns=drop_columns, inplace=True)\n",
    "    \n",
    "    for i in range(11,23+1):\n",
    "        temporal_df = pd.read_excel(name,'20%d'%i,header=header)\n",
    "        temporal_df=temporal_df[temporal_df[drop_columns[1]]=='BOGOTÁ D.C. (CT)']\n",
    "        temporal_df.drop(columns=drop_columns, inplace=True)#,\"DESCRIPCION_CONDUCTA\"\n",
    "        df = pd.concat([df,temporal_df],join=\"inner\")\n",
    "    df.rename(columns=column_name_mapping, inplace=True)\n",
    "    return df"
   ]
  },
  {
   "cell_type": "code",
   "execution_count": 4,
   "metadata": {},
   "outputs": [],
   "source": [
    "def generate_unified_crime_data(name,column_name_mapping,header=0,drop_columns=[\"Departamento\",\"Municipio\",\"Código DANE\",\"Cantidad\"]):\n",
    "    path = f\"../crimenes/{name}\"\n",
    "    os.chdir(path)\n",
    "    \n",
    "    df = obtain_info(f'{name.upper()}_1.xlsx',column_name_mapping=column_name_mapping,header=header,drop_columns=drop_columns)\n",
    "    save_clean_dataframe(df,name)"
   ]
  },
  {
   "cell_type": "markdown",
   "metadata": {},
   "source": [
    "# Parámetros"
   ]
  },
  {
   "cell_type": "markdown",
   "metadata": {},
   "source": [
    "Diccionario de asignación de nombre de columnas."
   ]
  },
  {
   "cell_type": "code",
   "execution_count": 5,
   "metadata": {},
   "outputs": [],
   "source": [
    "column_name_mapping = {\n",
    "    'Fecha': 'FECHA',\n",
    "    'Día': 'DIA',\n",
    "    'Hora': 'HORA',\n",
    "    'Barrio': 'BARRIO',\n",
    "    'MES': 'MES',\n",
    "    'Zona': 'ZONA',\n",
    "    'Clase de sitio': 'CLASE_DE_SITIO',\n",
    "    'Arma empleada': 'ARMA_EMPLEADA',\n",
    "    'Móvil Victima': 'MOVIL_VICTIMA',\n",
    "    'MOVIL_AGRESOR': 'MOVIL_AGRESOR',\n",
    "    'Edad': 'EDAD',\n",
    "    'Estado civil': 'ESTADO_CIVIL',\n",
    "    'País de nacimiento': 'PAIS_NACIMIENTO',\n",
    "    'Clase de empleado': 'CLASE_EMPLEADO',\n",
    "    'Profesión': 'PROFESION',\n",
    "    'Escolaridad': 'ESCOLARIDAD',\n",
    "    'GENERO': 'GENERO',\n",
    "    'Hechos.BARRIOS_HECHO':'BARRIO',\n",
    "    'Calend.FECHA_HECHO': 'FECHA',\n",
    "    'ClaseS.CLASE_SITIO': 'CLASE_DE_SITIO',\n",
    "    'Person.EDAD': 'EDAD',\n",
    "    'Person.ESTADO_CIVIL_PERSONA': 'ESTADO_CIVIL',\n",
    "    'Person.GENERO': 'GENERO',\n",
    "    'Conduc.MOVIL_AGRESOR': 'MOVIL_AGRESOR',\n",
    "    'Conduc.MOVIL_VICTIMA': 'MOVIL_VICTIMA',\n",
    "    'Hechos.ZONA': 'ZONA',\n",
    "    'Person.PAIS_PERSONA': 'PAIS_NACIMIENTO',\n",
    "    'Person.PROFESIONES': 'PROFESION',\n",
    "    'Person.GRADO_INSTRUCCION_PERSONA': 'ESCOLARIDAD',\n",
    "    'Conduc.ARMAS_MEDIOS': 'ARMA_EMPLEADA',\n",
    "    }"
   ]
  },
  {
   "cell_type": "code",
   "execution_count": 6,
   "metadata": {},
   "outputs": [
    {
     "data": {
      "text/plain": [
       "'c:\\\\Users\\\\sdsal\\\\OneDrive - Universidad de los Andes\\\\2023-2\\\\Tesis\\\\codigo'"
      ]
     },
     "execution_count": 6,
     "metadata": {},
     "output_type": "execute_result"
    }
   ],
   "source": [
    "os.getcwd()"
   ]
  },
  {
   "cell_type": "code",
   "execution_count": 7,
   "metadata": {},
   "outputs": [],
   "source": [
    "os.chdir(path=\"../datos/crimenes/\")\n",
    "#os.chdir(path=\"../\")"
   ]
  },
  {
   "cell_type": "markdown",
   "metadata": {},
   "source": [
    "# Delitos Sexuales"
   ]
  },
  {
   "cell_type": "code",
   "execution_count": 8,
   "metadata": {},
   "outputs": [],
   "source": [
    "generate_unified_crime_data('delitos_sexuales',column_name_mapping,header=9)"
   ]
  },
  {
   "cell_type": "markdown",
   "metadata": {},
   "source": [
    "# Extorsión"
   ]
  },
  {
   "cell_type": "code",
   "execution_count": 9,
   "metadata": {},
   "outputs": [],
   "source": [
    "generate_unified_crime_data('extorsion',column_name_mapping,header=9)"
   ]
  },
  {
   "cell_type": "markdown",
   "metadata": {},
   "source": [
    "# Homicidios"
   ]
  },
  {
   "cell_type": "code",
   "execution_count": 10,
   "metadata": {},
   "outputs": [],
   "source": [
    "generate_unified_crime_data('homicidios',column_name_mapping)"
   ]
  },
  {
   "cell_type": "markdown",
   "metadata": {},
   "source": [
    "# Hurto de Automotores"
   ]
  },
  {
   "cell_type": "code",
   "execution_count": 11,
   "metadata": {},
   "outputs": [],
   "source": [
    "generate_unified_crime_data('hurto_de_automotores',column_name_mapping,header=9)"
   ]
  },
  {
   "cell_type": "markdown",
   "metadata": {},
   "source": [
    "# Hurto de Motocicletas"
   ]
  },
  {
   "cell_type": "code",
   "execution_count": 12,
   "metadata": {},
   "outputs": [],
   "source": [
    "generate_unified_crime_data('hurto_de_motos',column_name_mapping,header=9)"
   ]
  },
  {
   "cell_type": "markdown",
   "metadata": {},
   "source": [
    "# Hurto de Bicicletas"
   ]
  },
  {
   "cell_type": "code",
   "execution_count": 13,
   "metadata": {},
   "outputs": [],
   "source": [
    "drop_columns=[\"DEPTO_HECHO\",\"MUNICIPIO_HECHO\",\"CODIGO_DANE\"]\n",
    "generate_unified_crime_data('hurto_de_bicicletas',column_name_mapping,header=9,drop_columns=drop_columns)"
   ]
  },
  {
   "cell_type": "markdown",
   "metadata": {},
   "source": [
    "# Hurto a Comercio"
   ]
  },
  {
   "cell_type": "code",
   "execution_count": 14,
   "metadata": {},
   "outputs": [],
   "source": [
    "generate_unified_crime_data('hurto_a_comercio',column_name_mapping,header=9)"
   ]
  },
  {
   "cell_type": "markdown",
   "metadata": {},
   "source": [
    "# Hurto a Residencias"
   ]
  },
  {
   "cell_type": "code",
   "execution_count": 15,
   "metadata": {},
   "outputs": [],
   "source": [
    "generate_unified_crime_data('hurto_a_residencias',column_name_mapping,header=9)"
   ]
  },
  {
   "cell_type": "markdown",
   "metadata": {},
   "source": [
    "# Hurto de Personas"
   ]
  },
  {
   "cell_type": "code",
   "execution_count": 16,
   "metadata": {},
   "outputs": [],
   "source": [
    "generate_unified_crime_data('hurto_a_personas',column_name_mapping,header=9)"
   ]
  },
  {
   "cell_type": "markdown",
   "metadata": {},
   "source": [
    "# Hurto de Celulares"
   ]
  },
  {
   "cell_type": "code",
   "execution_count": 17,
   "metadata": {},
   "outputs": [],
   "source": [
    "generate_unified_crime_data('hurto_de_celulares',column_name_mapping,header=9)"
   ]
  },
  {
   "cell_type": "markdown",
   "metadata": {},
   "source": [
    "# Lesiones Personales"
   ]
  },
  {
   "cell_type": "code",
   "execution_count": 18,
   "metadata": {},
   "outputs": [],
   "source": [
    "generate_unified_crime_data('lesiones_personales',column_name_mapping,header=9)"
   ]
  },
  {
   "cell_type": "markdown",
   "metadata": {},
   "source": [
    "# Secuestro"
   ]
  },
  {
   "cell_type": "code",
   "execution_count": 19,
   "metadata": {},
   "outputs": [],
   "source": [
    "generate_unified_crime_data('secuestro',column_name_mapping,header=9)"
   ]
  }
 ],
 "metadata": {
  "kernelspec": {
   "display_name": "Python 3",
   "language": "python",
   "name": "python3"
  },
  "language_info": {
   "codemirror_mode": {
    "name": "ipython",
    "version": 3
   },
   "file_extension": ".py",
   "mimetype": "text/x-python",
   "name": "python",
   "nbconvert_exporter": "python",
   "pygments_lexer": "ipython3",
   "version": "3.10.8"
  },
  "orig_nbformat": 4
 },
 "nbformat": 4,
 "nbformat_minor": 2
}
