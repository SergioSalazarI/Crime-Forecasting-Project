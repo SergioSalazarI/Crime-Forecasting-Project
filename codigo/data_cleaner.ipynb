{
 "cells": [
  {
   "cell_type": "markdown",
   "metadata": {},
   "source": [
    "# Librerias"
   ]
  },
  {
   "cell_type": "code",
   "execution_count": 1,
   "metadata": {},
   "outputs": [],
   "source": [
    "import numpy as np\n",
    "import pandas as pd\n",
    "import matplotlib.pyplot as plt\n",
    "import seaborn as sns\n",
    "\n",
    "import os\n",
    "import openpyxl as xl"
   ]
  },
  {
   "cell_type": "markdown",
   "metadata": {},
   "source": [
    "# Funciones auxiliares"
   ]
  },
  {
   "cell_type": "code",
   "execution_count": 4,
   "metadata": {},
   "outputs": [],
   "source": [
    "def save_clean_dataframe(df,name):\n",
    "    os.chdir('../../unificado')\n",
    "    df.to_csv(f'{name}.csv', encoding='utf-8', index=False)"
   ]
  },
  {
   "cell_type": "code",
   "execution_count": 5,
   "metadata": {},
   "outputs": [],
   "source": [
    "def obtaion_info(name,header=0,drop_columns=[\"Departamento\",\"Municipio\",\"Código DANE\",\"Cantidad\"]):\n",
    "    \n",
    "    df = pd.read_excel(name,'2010',header=header)\n",
    "\n",
    "    df=df[df[drop_columns[1]]=='BOGOTÁ D.C. (CT)']\n",
    "    df.drop(columns=drop_columns, inplace=True)\n",
    "    \n",
    "    for i in range(11,22+1):\n",
    "        temporal_df = pd.read_excel(name,'20%d'%i,header=header)\n",
    "        temporal_df=temporal_df[temporal_df[drop_columns[1]]=='BOGOTÁ D.C. (CT)']\n",
    "        temporal_df.drop(columns=drop_columns, inplace=True)#,\"DESCRIPCION_CONDUCTA\"\n",
    "        df = pd.concat([df,temporal_df],join=\"inner\")\n",
    "    \n",
    "    return df"
   ]
  },
  {
   "cell_type": "code",
   "execution_count": 6,
   "metadata": {},
   "outputs": [],
   "source": [
    "def generate_unified_crime_data(name,header=0,drop_columns=[\"Departamento\",\"Municipio\",\"Código DANE\",\"Cantidad\"]):\n",
    "    path = f\"../crimenes/{name}\"\n",
    "    os.chdir(path)\n",
    "    \n",
    "    df = obtaion_info(f'{name.upper()}_1.xlsx',header=header,drop_columns=drop_columns)\n",
    "    \n",
    "    column_name_mapping = {\n",
    "    'Fecha': 'FECHA',\n",
    "    'Día': 'DIA',\n",
    "    'Hora': 'HORA',\n",
    "    'Barrio': 'BARRIO',\n",
    "    'MES': 'MES',\n",
    "    'Zona': 'ZONA',\n",
    "    'Clase de sitio': 'CLASE_DE_SITIO',\n",
    "    'Arma empleada': 'ARMA_EMPLEADA',\n",
    "    'Móvil Victima': 'MOVIL_VICTIMA',\n",
    "    'MOVIL_AGRESOR': 'MOVIL_AGRESOR',\n",
    "    'Edad': 'EDAD',\n",
    "    'Estado civil': 'ESTADO_CIVIL',\n",
    "    'País de nacimiento': 'PAIS_NACIMIENTO',\n",
    "    'Clase de empleado': 'CLASE_EMPLEADO',\n",
    "    'Profesión': 'PROFESION',\n",
    "    'Escolaridad': 'ESCOLARIDAD',\n",
    "    'GENERO': 'GENERO'\n",
    "    }\n",
    "    \n",
    "    df.rename(columns=column_name_mapping, inplace=True)\n",
    "    df.head()\n",
    "    \n",
    "    save_clean_dataframe(df,name)"
   ]
  },
  {
   "cell_type": "code",
   "execution_count": 18,
   "metadata": {},
   "outputs": [
    {
     "data": {
      "text/plain": [
       "'c:\\\\Users\\\\sdsal\\\\OneDrive - Universidad de los Andes\\\\2023-2\\\\Tesis\\\\datos\\\\crimenes'"
      ]
     },
     "execution_count": 18,
     "metadata": {},
     "output_type": "execute_result"
    }
   ],
   "source": [
    "os.getcwd()"
   ]
  },
  {
   "cell_type": "code",
   "execution_count": 17,
   "metadata": {},
   "outputs": [],
   "source": [
    "os.chdir(path=\"..\")"
   ]
  },
  {
   "cell_type": "code",
   "execution_count": 15,
   "metadata": {},
   "outputs": [
    {
     "ename": "FileNotFoundError",
     "evalue": "[WinError 3] El sistema no puede encontrar la ruta especificada: '../datos/crimenes/'",
     "output_type": "error",
     "traceback": [
      "\u001b[1;31m---------------------------------------------------------------------------\u001b[0m",
      "\u001b[1;31mFileNotFoundError\u001b[0m                         Traceback (most recent call last)",
      "\u001b[1;32mc:\\Users\\sdsal\\OneDrive - Universidad de los Andes\\2023-2\\Tesis\\codigo\\data_cleaner.ipynb Celda 9\u001b[0m line \u001b[0;36m2\n\u001b[0;32m      <a href='vscode-notebook-cell:/c%3A/Users/sdsal/OneDrive%20-%20Universidad%20de%20los%20Andes/2023-2/Tesis/codigo/data_cleaner.ipynb#X10sZmlsZQ%3D%3D?line=0'>1</a>\u001b[0m os\u001b[39m.\u001b[39mgetcwd()\n\u001b[1;32m----> <a href='vscode-notebook-cell:/c%3A/Users/sdsal/OneDrive%20-%20Universidad%20de%20los%20Andes/2023-2/Tesis/codigo/data_cleaner.ipynb#X10sZmlsZQ%3D%3D?line=1'>2</a>\u001b[0m os\u001b[39m.\u001b[39;49mchdir(path\u001b[39m=\u001b[39;49m\u001b[39m\"\u001b[39;49m\u001b[39m../datos/crimenes/\u001b[39;49m\u001b[39m\"\u001b[39;49m)\n\u001b[0;32m      <a href='vscode-notebook-cell:/c%3A/Users/sdsal/OneDrive%20-%20Universidad%20de%20los%20Andes/2023-2/Tesis/codigo/data_cleaner.ipynb#X10sZmlsZQ%3D%3D?line=2'>3</a>\u001b[0m \u001b[39m#os.chdir(path=\"unificado\")\u001b[39;00m\n",
      "\u001b[1;31mFileNotFoundError\u001b[0m: [WinError 3] El sistema no puede encontrar la ruta especificada: '../datos/crimenes/'"
     ]
    }
   ],
   "source": [
    "os.chdir(path=\"../datos/crimenes/\")\n",
    "#os.chdir(path=\"unificado\")"
   ]
  },
  {
   "cell_type": "markdown",
   "metadata": {},
   "source": [
    "# Delitos Sexuales"
   ]
  },
  {
   "cell_type": "code",
   "execution_count": 10,
   "metadata": {},
   "outputs": [],
   "source": [
    "generate_unified_crime_data('delitos_sexuales',header=9)"
   ]
  },
  {
   "cell_type": "markdown",
   "metadata": {},
   "source": [
    "# Extorsión"
   ]
  },
  {
   "cell_type": "code",
   "execution_count": 11,
   "metadata": {},
   "outputs": [],
   "source": [
    "generate_unified_crime_data('extorsion',header=9)"
   ]
  },
  {
   "cell_type": "markdown",
   "metadata": {},
   "source": [
    "# Homicidios"
   ]
  },
  {
   "cell_type": "code",
   "execution_count": 12,
   "metadata": {},
   "outputs": [],
   "source": [
    "generate_unified_crime_data('homicidios')"
   ]
  },
  {
   "cell_type": "markdown",
   "metadata": {},
   "source": [
    "# Hurto de Automotores"
   ]
  },
  {
   "cell_type": "code",
   "execution_count": 19,
   "metadata": {},
   "outputs": [],
   "source": [
    "generate_unified_crime_data('hurto_de_automotores',header=9)"
   ]
  },
  {
   "cell_type": "markdown",
   "metadata": {},
   "source": [
    "# Hurto de Motocicletas"
   ]
  },
  {
   "cell_type": "code",
   "execution_count": 20,
   "metadata": {},
   "outputs": [],
   "source": [
    "generate_unified_crime_data('hurto_de_motos',header=9)"
   ]
  },
  {
   "cell_type": "markdown",
   "metadata": {},
   "source": [
    "# Hurto de Bicicletas"
   ]
  },
  {
   "cell_type": "code",
   "execution_count": 21,
   "metadata": {},
   "outputs": [],
   "source": [
    "drop_columns=[\"DEPTO_HECHO\",\"MUNICIPIO_HECHO\",\"CODIGO_DANE\"]\n",
    "generate_unified_crime_data('hurto_de_bicicletas',header=9,drop_columns=drop_columns)"
   ]
  },
  {
   "cell_type": "markdown",
   "metadata": {},
   "source": [
    "# Hurto a Comercio"
   ]
  },
  {
   "cell_type": "code",
   "execution_count": 22,
   "metadata": {},
   "outputs": [],
   "source": [
    "generate_unified_crime_data('hurto_a_comercio',header=9)"
   ]
  },
  {
   "cell_type": "markdown",
   "metadata": {},
   "source": [
    "# Hurto a Residencias"
   ]
  },
  {
   "cell_type": "code",
   "execution_count": 23,
   "metadata": {},
   "outputs": [],
   "source": [
    "generate_unified_crime_data('hurto_a_residencias',header=9)"
   ]
  },
  {
   "cell_type": "markdown",
   "metadata": {},
   "source": [
    "# Hurto de Personas"
   ]
  },
  {
   "cell_type": "code",
   "execution_count": 24,
   "metadata": {},
   "outputs": [],
   "source": [
    "generate_unified_crime_data('hurto_a_personas',header=9)"
   ]
  },
  {
   "cell_type": "markdown",
   "metadata": {},
   "source": [
    "# Hurto de Celulares"
   ]
  },
  {
   "cell_type": "code",
   "execution_count": 25,
   "metadata": {},
   "outputs": [],
   "source": [
    "generate_unified_crime_data('hurto_de_celulares',header=9)"
   ]
  },
  {
   "cell_type": "markdown",
   "metadata": {},
   "source": [
    "# Lesiones Personales"
   ]
  },
  {
   "cell_type": "code",
   "execution_count": 26,
   "metadata": {},
   "outputs": [],
   "source": [
    "generate_unified_crime_data('lesiones_personales',header=9)"
   ]
  },
  {
   "cell_type": "markdown",
   "metadata": {},
   "source": [
    "# Secuestro"
   ]
  },
  {
   "cell_type": "code",
   "execution_count": 27,
   "metadata": {},
   "outputs": [],
   "source": [
    "generate_unified_crime_data('secuestro',header=9)"
   ]
  }
 ],
 "metadata": {
  "kernelspec": {
   "display_name": "Python 3",
   "language": "python",
   "name": "python3"
  },
  "language_info": {
   "codemirror_mode": {
    "name": "ipython",
    "version": 3
   },
   "file_extension": ".py",
   "mimetype": "text/x-python",
   "name": "python",
   "nbconvert_exporter": "python",
   "pygments_lexer": "ipython3",
   "version": "3.10.8"
  },
  "orig_nbformat": 4
 },
 "nbformat": 4,
 "nbformat_minor": 2
}
